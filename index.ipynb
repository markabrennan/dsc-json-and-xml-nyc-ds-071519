{
 "cells": [
  {
   "cell_type": "markdown",
   "metadata": {},
   "source": [
    "# JSON and XML\n",
    "\n",
    "## Introduction\n",
    "\n",
    "In this lecture, you'll continue investigating new formats for datasets. Specifically, you'll investigate two of the most popular data formats for the web: JSON and XML including each of their strengths and weaknesses.\n",
    "\n",
    "## Objectives\n",
    "You will be able to:\n",
    "* Effectively use the JSON module to load and parse JSON documents\n",
    "* Read and access data stored in JSON and XML\n",
    "* Compare  and contrast the JSON and XML as data interchange types\n",
    "\n",
    "\n",
    "## XML\n",
    "\n",
    "XML stands for 'Extensible Markup Language'. You may note the acronym's similarity to HTML; HyperText Markup Language. While HTML contains information for how to display a page, XML is used to store the data and content of the page itself. Like HTML, XML uses tags to separate and organize data in a hierarchical manner. Here's a brief preview of an XML file:  \n",
    "\n",
    "<img src=\"images/xml_preview2.png\" width=\"850\">\n",
    "\n",
    "## JSON\n",
    "\n",
    "JSON stands for JavaScript Object Notation. It came after XML and was meant to streamline many data transportation issues at the time. It is now the common standard amongst data transfers on the web and has numerous parsing packages for numerous languages (including Python)! Here's a brief preview of the same file above now in JSON:  \n",
    "<img src=\"images/json_preview.png\" width=\"850\">\n",
    "\n",
    "## Loading XML and JSON Data\n",
    "For both of these data formats, prebuilt modules exist that will give you a powerful starting point for accessing and manipulating the underlying data itself. As you'll see the newer version, JSON, is simpler and more flexible than its predecessor XML.\n",
    "\n",
    "### The XML Module\n",
    "\n",
    "You can check out the full details of the XML package here:  \n",
    "https://docs.python.org/3.6/library/xml.html#  \n",
    "but for now, you'll simply be using a submodule, ElementTree:   \n",
    "https://docs.python.org/3.6/library/xml.etree.elementtree.html#module-xml.etree.ElementTree  \n",
    "\n",
    "Notice the nested structure of the XML file:  \n",
    "\n",
    "<img src=\"images/xml_preview2.png\" width=\"850\">  \n",
    "\n",
    "When parsing the data, you'll have to navigate through this hierarchical structure. This is the idea behind the `ElementTree` submodule. You'll start with a root note and then iterate over its children, each of which should have a tag (the name in <angle_brackets\\>) and an associated attribute (the data between the two angle brackets <start\\> data <stop\\>)."
   ]
  },
  {
   "cell_type": "code",
   "execution_count": 1,
   "metadata": {},
   "outputs": [],
   "source": [
    "import xml.etree.ElementTree as ET"
   ]
  },
  {
   "cell_type": "markdown",
   "metadata": {},
   "source": [
    "First you create the tree and retrieve the root tag."
   ]
  },
  {
   "cell_type": "code",
   "execution_count": 8,
   "metadata": {},
   "outputs": [],
   "source": [
    "tree = ET.parse('nyc_2001_campaign_finance.xml')\n",
    "root = tree.getroot()"
   ]
  },
  {
   "cell_type": "markdown",
   "metadata": {},
   "source": [
    "Afterwards, you can iterate through the root node's children:"
   ]
  },
  {
   "cell_type": "code",
   "execution_count": 9,
   "metadata": {},
   "outputs": [
    {
     "name": "stdout",
     "output_type": "stream",
     "text": [
      "row {}\n"
     ]
    }
   ],
   "source": [
    "for child in root:\n",
    "    print(child.tag, child.attrib)"
   ]
  },
  {
   "cell_type": "code",
   "execution_count": null,
   "metadata": {},
   "outputs": [],
   "source": []
  },
  {
   "cell_type": "markdown",
   "metadata": {},
   "source": [
    "Due to the nested structure, you often have to dig further down the tree:"
   ]
  },
  {
   "cell_type": "code",
   "execution_count": 10,
   "metadata": {},
   "outputs": [
    {
     "name": "stdout",
     "output_type": "stream",
     "text": [
      "Child:\n",
      "\n",
      "row {}\n",
      "Grandchildren:\n",
      "row {'_id': '1', '_uuid': 'E3E9CC9F-7443-43F6-94AF-B5A0F802DBA1', '_position': '1', '_address': 'https://data.cityofnewyork.us/resource/_8dhd-zvi6/1'}\n",
      "row {'_id': '2', '_uuid': '9D257416-581A-4C42-85CC-B6EAD9DED97F', '_position': '2', '_address': 'https://data.cityofnewyork.us/resource/_8dhd-zvi6/2'}\n",
      "row {'_id': '3', '_uuid': 'B80D7891-93CF-49E8-86E8-182B618E68F2', '_position': '3', '_address': 'https://data.cityofnewyork.us/resource/_8dhd-zvi6/3'}\n",
      "row {'_id': '4', '_uuid': 'BB012003-78F5-406D-8A87-7FF8A425EE3F', '_position': '4', '_address': 'https://data.cityofnewyork.us/resource/_8dhd-zvi6/4'}\n",
      "row {'_id': '5', '_uuid': '945825F9-2F5D-47C2-A16B-75B93E61E1AD', '_position': '5', '_address': 'https://data.cityofnewyork.us/resource/_8dhd-zvi6/5'}\n",
      "row {'_id': '6', '_uuid': '9546F502-39D6-4340-B37E-60682EB22274', '_position': '6', '_address': 'https://data.cityofnewyork.us/resource/_8dhd-zvi6/6'}\n",
      "row {'_id': '7', '_uuid': '4B6C74AD-17A0-4B7E-973A-2592D68A687D', '_position': '7', '_address': 'https://data.cityofnewyork.us/resource/_8dhd-zvi6/7'}\n",
      "row {'_id': '8', '_uuid': 'ABD22A5E-B8DA-446F-82BC-93AA11AF99DF', '_position': '8', '_address': 'https://data.cityofnewyork.us/resource/_8dhd-zvi6/8'}\n",
      "row {'_id': '9', '_uuid': '7CD36FB5-600F-44F5-A10C-CB3434B6805F', '_position': '9', '_address': 'https://data.cityofnewyork.us/resource/_8dhd-zvi6/9'}\n",
      "\n",
      "\n",
      "\n"
     ]
    }
   ],
   "source": [
    "#Count is added here to limit the number of results\n",
    "count = 0\n",
    "for child in root:\n",
    "    print('Child:\\n')\n",
    "    print(child.tag, child.attrib)\n",
    "    print('Grandchildren:')\n",
    "    for grandchild in child:\n",
    "        count += 1\n",
    "        if count < 10:\n",
    "            print(grandchild.tag, grandchild.attrib)\n",
    "    print('\\n\\n')"
   ]
  },
  {
   "cell_type": "markdown",
   "metadata": {},
   "source": [
    "Due to the nested structure, there is also a convenience method .iter() that allows you to iterate through all sub generations, regardless of depth."
   ]
  },
  {
   "cell_type": "code",
   "execution_count": 12,
   "metadata": {},
   "outputs": [
    {
     "name": "stdout",
     "output_type": "stream",
     "text": [
      "response {}\n",
      "row {}\n",
      "row {'_id': '1', '_uuid': 'E3E9CC9F-7443-43F6-94AF-B5A0F802DBA1', '_position': '1', '_address': 'https://data.cityofnewyork.us/resource/_8dhd-zvi6/1'}\n",
      "candid {}\n",
      "candname {}\n",
      "officeboro {}\n",
      "canclass {}\n",
      "row {'_id': '2', '_uuid': '9D257416-581A-4C42-85CC-B6EAD9DED97F', '_position': '2', '_address': 'https://data.cityofnewyork.us/resource/_8dhd-zvi6/2'}\n",
      "election {}\n"
     ]
    }
   ],
   "source": [
    "count = 0\n",
    "for element in root.iter():\n",
    "    count += 1\n",
    "    if count < 10:\n",
    "        print(element.tag, element.attrib)"
   ]
  },
  {
   "cell_type": "markdown",
   "metadata": {},
   "source": [
    "With some finesse, you could also extract all of these row tags into a dataframe...."
   ]
  },
  {
   "cell_type": "code",
   "execution_count": 14,
   "metadata": {},
   "outputs": [],
   "source": [
    "import pandas as pd"
   ]
  },
  {
   "cell_type": "code",
   "execution_count": 15,
   "metadata": {},
   "outputs": [
    {
     "name": "stdout",
     "output_type": "stream",
     "text": [
      "285\n"
     ]
    },
    {
     "data": {
      "text/html": [
       "<div>\n",
       "<style scoped>\n",
       "    .dataframe tbody tr th:only-of-type {\n",
       "        vertical-align: middle;\n",
       "    }\n",
       "\n",
       "    .dataframe tbody tr th {\n",
       "        vertical-align: top;\n",
       "    }\n",
       "\n",
       "    .dataframe thead th {\n",
       "        text-align: right;\n",
       "    }\n",
       "</style>\n",
       "<table border=\"1\" class=\"dataframe\">\n",
       "  <thead>\n",
       "    <tr style=\"text-align: right;\">\n",
       "      <th></th>\n",
       "      <th>_id</th>\n",
       "      <th>_uuid</th>\n",
       "      <th>_position</th>\n",
       "      <th>_address</th>\n",
       "    </tr>\n",
       "  </thead>\n",
       "  <tbody>\n",
       "    <tr>\n",
       "      <th>0</th>\n",
       "      <td>1</td>\n",
       "      <td>E3E9CC9F-7443-43F6-94AF-B5A0F802DBA1</td>\n",
       "      <td>1</td>\n",
       "      <td>https://data.cityofnewyork.us/resource/_8dhd-z...</td>\n",
       "    </tr>\n",
       "    <tr>\n",
       "      <th>0</th>\n",
       "      <td>2</td>\n",
       "      <td>9D257416-581A-4C42-85CC-B6EAD9DED97F</td>\n",
       "      <td>2</td>\n",
       "      <td>https://data.cityofnewyork.us/resource/_8dhd-z...</td>\n",
       "    </tr>\n",
       "    <tr>\n",
       "      <th>0</th>\n",
       "      <td>3</td>\n",
       "      <td>B80D7891-93CF-49E8-86E8-182B618E68F2</td>\n",
       "      <td>3</td>\n",
       "      <td>https://data.cityofnewyork.us/resource/_8dhd-z...</td>\n",
       "    </tr>\n",
       "    <tr>\n",
       "      <th>0</th>\n",
       "      <td>4</td>\n",
       "      <td>BB012003-78F5-406D-8A87-7FF8A425EE3F</td>\n",
       "      <td>4</td>\n",
       "      <td>https://data.cityofnewyork.us/resource/_8dhd-z...</td>\n",
       "    </tr>\n",
       "    <tr>\n",
       "      <th>0</th>\n",
       "      <td>5</td>\n",
       "      <td>945825F9-2F5D-47C2-A16B-75B93E61E1AD</td>\n",
       "      <td>5</td>\n",
       "      <td>https://data.cityofnewyork.us/resource/_8dhd-z...</td>\n",
       "    </tr>\n",
       "  </tbody>\n",
       "</table>\n",
       "</div>"
      ],
      "text/plain": [
       "  _id                                 _uuid _position  \\\n",
       "0   1  E3E9CC9F-7443-43F6-94AF-B5A0F802DBA1         1   \n",
       "0   2  9D257416-581A-4C42-85CC-B6EAD9DED97F         2   \n",
       "0   3  B80D7891-93CF-49E8-86E8-182B618E68F2         3   \n",
       "0   4  BB012003-78F5-406D-8A87-7FF8A425EE3F         4   \n",
       "0   5  945825F9-2F5D-47C2-A16B-75B93E61E1AD         5   \n",
       "\n",
       "                                            _address  \n",
       "0  https://data.cityofnewyork.us/resource/_8dhd-z...  \n",
       "0  https://data.cityofnewyork.us/resource/_8dhd-z...  \n",
       "0  https://data.cityofnewyork.us/resource/_8dhd-z...  \n",
       "0  https://data.cityofnewyork.us/resource/_8dhd-z...  \n",
       "0  https://data.cityofnewyork.us/resource/_8dhd-z...  "
      ]
     },
     "execution_count": 15,
     "metadata": {},
     "output_type": "execute_result"
    }
   ],
   "source": [
    "dfs = []\n",
    "for n, element in enumerate(root.iter('row')):\n",
    "    if n > 0:\n",
    "        dfs.append(pd.DataFrame.from_dict(element.attrib, orient='index').transpose())\n",
    "df = pd.concat(dfs)\n",
    "print(len(df))\n",
    "df.head()"
   ]
  },
  {
   "cell_type": "code",
   "execution_count": 16,
   "metadata": {},
   "outputs": [
    {
     "name": "stdout",
     "output_type": "stream",
     "text": [
      "n: 0 - element: <Element 'row' at 0x7f1b4823bb38>\n",
      "n: 1 - element: <Element 'row' at 0x7f1b4823bb88>\n",
      "n: 2 - element: <Element 'row' at 0x7f1b4823b638>\n",
      "n: 3 - element: <Element 'row' at 0x7f1b4823b2c8>\n",
      "n: 4 - element: <Element 'row' at 0x7f1b4caa6548>\n",
      "n: 5 - element: <Element 'row' at 0x7f1b48f839f8>\n",
      "n: 6 - element: <Element 'row' at 0x7f1b481c7548>\n",
      "n: 7 - element: <Element 'row' at 0x7f1b481c78b8>\n",
      "n: 8 - element: <Element 'row' at 0x7f1b481c7c28>\n",
      "n: 9 - element: <Element 'row' at 0x7f1b481c7f98>\n",
      "n: 10 - element: <Element 'row' at 0x7f1b481c8368>\n",
      "n: 11 - element: <Element 'row' at 0x7f1b481c86d8>\n",
      "n: 12 - element: <Element 'row' at 0x7f1b481c8a48>\n",
      "n: 13 - element: <Element 'row' at 0x7f1b481c8db8>\n",
      "n: 14 - element: <Element 'row' at 0x7f1b481c9138>\n",
      "n: 15 - element: <Element 'row' at 0x7f1b481c94a8>\n",
      "n: 16 - element: <Element 'row' at 0x7f1b481c9868>\n",
      "n: 17 - element: <Element 'row' at 0x7f1b481c9bd8>\n",
      "n: 18 - element: <Element 'row' at 0x7f1b481c9f48>\n",
      "n: 19 - element: <Element 'row' at 0x7f1b481ca318>\n",
      "n: 20 - element: <Element 'row' at 0x7f1b481ca688>\n",
      "n: 21 - element: <Element 'row' at 0x7f1b481ca9a8>\n",
      "n: 22 - element: <Element 'row' at 0x7f1b481cad18>\n",
      "n: 23 - element: <Element 'row' at 0x7f1b481cc0e8>\n",
      "n: 24 - element: <Element 'row' at 0x7f1b481cc458>\n",
      "n: 25 - element: <Element 'row' at 0x7f1b481cc7c8>\n",
      "n: 26 - element: <Element 'row' at 0x7f1b481ccb38>\n",
      "n: 27 - element: <Element 'row' at 0x7f1b481ccea8>\n",
      "n: 28 - element: <Element 'row' at 0x7f1b481ce278>\n",
      "n: 29 - element: <Element 'row' at 0x7f1b481ce5e8>\n",
      "n: 30 - element: <Element 'row' at 0x7f1b481ce958>\n",
      "n: 31 - element: <Element 'row' at 0x7f1b481cecc8>\n",
      "n: 32 - element: <Element 'row' at 0x7f1b481cf098>\n",
      "n: 33 - element: <Element 'row' at 0x7f1b481cf408>\n",
      "n: 34 - element: <Element 'row' at 0x7f1b481cf778>\n",
      "n: 35 - element: <Element 'row' at 0x7f1b481cfb38>\n",
      "n: 36 - element: <Element 'row' at 0x7f1b481cfea8>\n",
      "n: 37 - element: <Element 'row' at 0x7f1b481d0278>\n",
      "n: 38 - element: <Element 'row' at 0x7f1b481d05e8>\n",
      "n: 39 - element: <Element 'row' at 0x7f1b481d0958>\n",
      "n: 40 - element: <Element 'row' at 0x7f1b481d0cc8>\n",
      "n: 41 - element: <Element 'row' at 0x7f1b481d2098>\n",
      "n: 42 - element: <Element 'row' at 0x7f1b481d2408>\n",
      "n: 43 - element: <Element 'row' at 0x7f1b481d2778>\n",
      "n: 44 - element: <Element 'row' at 0x7f1b481d2ae8>\n",
      "n: 45 - element: <Element 'row' at 0x7f1b481d2e58>\n",
      "n: 46 - element: <Element 'row' at 0x7f1b481d4228>\n",
      "n: 47 - element: <Element 'row' at 0x7f1b481d4548>\n",
      "n: 48 - element: <Element 'row' at 0x7f1b481d48b8>\n",
      "n: 49 - element: <Element 'row' at 0x7f1b481d4c28>\n",
      "n: 50 - element: <Element 'row' at 0x7f1b481d4f98>\n",
      "n: 51 - element: <Element 'row' at 0x7f1b481d5368>\n",
      "n: 52 - element: <Element 'row' at 0x7f1b481d56d8>\n",
      "n: 53 - element: <Element 'row' at 0x7f1b481d5a48>\n",
      "n: 54 - element: <Element 'row' at 0x7f1b481d5db8>\n",
      "n: 55 - element: <Element 'row' at 0x7f1b481d6188>\n",
      "n: 56 - element: <Element 'row' at 0x7f1b481d64f8>\n",
      "n: 57 - element: <Element 'row' at 0x7f1b481d6868>\n",
      "n: 58 - element: <Element 'row' at 0x7f1b481d6c28>\n",
      "n: 59 - element: <Element 'row' at 0x7f1b481d9048>\n",
      "n: 60 - element: <Element 'row' at 0x7f1b481d93b8>\n",
      "n: 61 - element: <Element 'row' at 0x7f1b481d96d8>\n",
      "n: 62 - element: <Element 'row' at 0x7f1b481d9a48>\n",
      "n: 63 - element: <Element 'row' at 0x7f1b481d9db8>\n",
      "n: 64 - element: <Element 'row' at 0x7f1b481db188>\n",
      "n: 65 - element: <Element 'row' at 0x7f1b481db4f8>\n",
      "n: 66 - element: <Element 'row' at 0x7f1b481db868>\n",
      "n: 67 - element: <Element 'row' at 0x7f1b481dbbd8>\n",
      "n: 68 - element: <Element 'row' at 0x7f1b481dbf48>\n",
      "n: 69 - element: <Element 'row' at 0x7f1b481dc318>\n",
      "n: 70 - element: <Element 'row' at 0x7f1b481dc688>\n",
      "n: 71 - element: <Element 'row' at 0x7f1b481dc9f8>\n",
      "n: 72 - element: <Element 'row' at 0x7f1b481dcd68>\n",
      "n: 73 - element: <Element 'row' at 0x7f1b481de138>\n",
      "n: 74 - element: <Element 'row' at 0x7f1b481de4a8>\n",
      "n: 75 - element: <Element 'row' at 0x7f1b481de7c8>\n",
      "n: 76 - element: <Element 'row' at 0x7f1b481deb38>\n",
      "n: 77 - element: <Element 'row' at 0x7f1b481deea8>\n",
      "n: 78 - element: <Element 'row' at 0x7f1b481e1278>\n",
      "n: 79 - element: <Element 'row' at 0x7f1b481e15e8>\n",
      "n: 80 - element: <Element 'row' at 0x7f1b481e1908>\n",
      "n: 81 - element: <Element 'row' at 0x7f1b481e1c78>\n",
      "n: 82 - element: <Element 'row' at 0x7f1b481e2048>\n",
      "n: 83 - element: <Element 'row' at 0x7f1b481e23b8>\n",
      "n: 84 - element: <Element 'row' at 0x7f1b481e2728>\n",
      "n: 85 - element: <Element 'row' at 0x7f1b481e2a98>\n",
      "n: 86 - element: <Element 'row' at 0x7f1b481e2db8>\n",
      "n: 87 - element: <Element 'row' at 0x7f1b481e5188>\n",
      "n: 88 - element: <Element 'row' at 0x7f1b481e54f8>\n",
      "n: 89 - element: <Element 'row' at 0x7f1b481e5868>\n",
      "n: 90 - element: <Element 'row' at 0x7f1b481e5bd8>\n",
      "n: 91 - element: <Element 'row' at 0x7f1b481e5f48>\n",
      "n: 92 - element: <Element 'row' at 0x7f1b481e8318>\n",
      "n: 93 - element: <Element 'row' at 0x7f1b481e8688>\n",
      "n: 94 - element: <Element 'row' at 0x7f1b481e89f8>\n",
      "n: 95 - element: <Element 'row' at 0x7f1b481e8d18>\n",
      "n: 96 - element: <Element 'row' at 0x7f1b481ea0e8>\n",
      "n: 97 - element: <Element 'row' at 0x7f1b481ea458>\n",
      "n: 98 - element: <Element 'row' at 0x7f1b481ea778>\n",
      "n: 99 - element: <Element 'row' at 0x7f1b481eaae8>\n",
      "n: 100 - element: <Element 'row' at 0x7f1b481eae58>\n",
      "n: 101 - element: <Element 'row' at 0x7f1b481eb1d8>\n",
      "n: 102 - element: <Element 'row' at 0x7f1b481eb548>\n",
      "n: 103 - element: <Element 'row' at 0x7f1b481eb8b8>\n",
      "n: 104 - element: <Element 'row' at 0x7f1b481ebc28>\n",
      "n: 105 - element: <Element 'row' at 0x7f1b481ebf98>\n",
      "n: 106 - element: <Element 'row' at 0x7f1b481ee368>\n",
      "n: 107 - element: <Element 'row' at 0x7f1b481ee6d8>\n",
      "n: 108 - element: <Element 'row' at 0x7f1b481eea48>\n",
      "n: 109 - element: <Element 'row' at 0x7f1b481eedb8>\n",
      "n: 110 - element: <Element 'row' at 0x7f1b4873d138>\n",
      "n: 111 - element: <Element 'row' at 0x7f1b4873d4a8>\n",
      "n: 112 - element: <Element 'row' at 0x7f1b4873d818>\n",
      "n: 113 - element: <Element 'row' at 0x7f1b4873db88>\n",
      "n: 114 - element: <Element 'row' at 0x7f1b4873def8>\n",
      "n: 115 - element: <Element 'row' at 0x7f1b4874a2c8>\n",
      "n: 116 - element: <Element 'row' at 0x7f1b4874a638>\n",
      "n: 117 - element: <Element 'row' at 0x7f1b4874a9a8>\n",
      "n: 118 - element: <Element 'row' at 0x7f1b4874ad18>\n",
      "n: 119 - element: <Element 'row' at 0x7f1b487470e8>\n",
      "n: 120 - element: <Element 'row' at 0x7f1b48747458>\n",
      "n: 121 - element: <Element 'row' at 0x7f1b487477c8>\n",
      "n: 122 - element: <Element 'row' at 0x7f1b48747b38>\n",
      "n: 123 - element: <Element 'row' at 0x7f1b48747ea8>\n",
      "n: 124 - element: <Element 'row' at 0x7f1b48753db8>\n",
      "n: 125 - element: <Element 'row' at 0x7f1b48753a48>\n",
      "n: 126 - element: <Element 'row' at 0x7f1b487536d8>\n",
      "n: 127 - element: <Element 'row' at 0x7f1b48753368>\n",
      "n: 128 - element: <Element 'row' at 0x7f1b48751f98>\n",
      "n: 129 - element: <Element 'row' at 0x7f1b48751c28>\n",
      "n: 130 - element: <Element 'row' at 0x7f1b487518b8>\n",
      "n: 131 - element: <Element 'row' at 0x7f1b48751548>\n",
      "n: 132 - element: <Element 'row' at 0x7f1b487511d8>\n",
      "n: 133 - element: <Element 'row' at 0x7f1b4874fe08>\n",
      "n: 134 - element: <Element 'row' at 0x7f1b4874fa98>\n",
      "n: 135 - element: <Element 'row' at 0x7f1b4874f728>\n",
      "n: 136 - element: <Element 'row' at 0x7f1b4874f3b8>\n",
      "n: 137 - element: <Element 'row' at 0x7f1b4874b048>\n",
      "n: 138 - element: <Element 'row' at 0x7f1b4874b368>\n",
      "n: 139 - element: <Element 'row' at 0x7f1b4874b6d8>\n",
      "n: 140 - element: <Element 'row' at 0x7f1b4874ba48>\n",
      "n: 141 - element: <Element 'row' at 0x7f1b4874bdb8>\n",
      "n: 142 - element: <Element 'row' at 0x7f1b4874db88>\n",
      "n: 143 - element: <Element 'row' at 0x7f1b4874d818>\n",
      "n: 144 - element: <Element 'row' at 0x7f1b4874d4a8>\n",
      "n: 145 - element: <Element 'row' at 0x7f1b4874d188>\n",
      "n: 146 - element: <Element 'row' at 0x7f1b4874d0e8>\n",
      "n: 147 - element: <Element 'row' at 0x7f1b4874cd68>\n",
      "n: 148 - element: <Element 'row' at 0x7f1b4874c9f8>\n",
      "n: 149 - element: <Element 'row' at 0x7f1b4874c688>\n",
      "n: 150 - element: <Element 'row' at 0x7f1b4874c2c8>\n",
      "n: 151 - element: <Element 'row' at 0x7f1b48746f48>\n",
      "n: 152 - element: <Element 'row' at 0x7f1b48746bd8>\n",
      "n: 153 - element: <Element 'row' at 0x7f1b48746868>\n",
      "n: 154 - element: <Element 'row' at 0x7f1b487464f8>\n",
      "n: 155 - element: <Element 'row' at 0x7f1b48746188>\n",
      "n: 156 - element: <Element 'row' at 0x7f1b48744db8>\n",
      "n: 157 - element: <Element 'row' at 0x7f1b48744a48>\n",
      "n: 158 - element: <Element 'row' at 0x7f1b487446d8>\n",
      "n: 159 - element: <Element 'row' at 0x7f1b48744368>\n",
      "n: 160 - element: <Element 'row' at 0x7f1b48740f98>\n",
      "n: 161 - element: <Element 'row' at 0x7f1b48740c28>\n",
      "n: 162 - element: <Element 'row' at 0x7f1b487408b8>\n",
      "n: 163 - element: <Element 'row' at 0x7f1b48740548>\n",
      "n: 164 - element: <Element 'row' at 0x7f1b48740188>\n",
      "n: 165 - element: <Element 'row' at 0x7f1b4872d228>\n",
      "n: 166 - element: <Element 'row' at 0x7f1b4872d598>\n",
      "n: 167 - element: <Element 'row' at 0x7f1b4872d908>\n",
      "n: 168 - element: <Element 'row' at 0x7f1b4872dc78>\n",
      "n: 169 - element: <Element 'row' at 0x7f1b4873be08>\n",
      "n: 170 - element: <Element 'row' at 0x7f1b4873bc78>\n",
      "n: 171 - element: <Element 'row' at 0x7f1b4873b908>\n",
      "n: 172 - element: <Element 'row' at 0x7f1b4873b598>\n",
      "n: 173 - element: <Element 'row' at 0x7f1b4873b1d8>\n",
      "n: 174 - element: <Element 'row' at 0x7f1b48739e58>\n",
      "n: 175 - element: <Element 'row' at 0x7f1b48739ae8>\n",
      "n: 176 - element: <Element 'row' at 0x7f1b48739778>\n",
      "n: 177 - element: <Element 'row' at 0x7f1b48739408>\n",
      "n: 178 - element: <Element 'row' at 0x7f1b48739048>\n",
      "n: 179 - element: <Element 'row' at 0x7f1b48735368>\n",
      "n: 180 - element: <Element 'row' at 0x7f1b487356d8>\n",
      "n: 181 - element: <Element 'row' at 0x7f1b48735a48>\n",
      "n: 182 - element: <Element 'row' at 0x7f1b48735db8>\n",
      "n: 183 - element: <Element 'row' at 0x7f1b48736ea8>\n",
      "n: 184 - element: <Element 'row' at 0x7f1b48736b38>\n",
      "n: 185 - element: <Element 'row' at 0x7f1b487367c8>\n",
      "n: 186 - element: <Element 'row' at 0x7f1b48736458>\n",
      "n: 187 - element: <Element 'row' at 0x7f1b487360e8>\n",
      "n: 188 - element: <Element 'row' at 0x7f1b48728318>\n",
      "n: 189 - element: <Element 'row' at 0x7f1b48728688>\n",
      "n: 190 - element: <Element 'row' at 0x7f1b487289f8>\n",
      "n: 191 - element: <Element 'row' at 0x7f1b48728d68>\n",
      "n: 192 - element: <Element 'row' at 0x7f1b4872bef8>\n",
      "n: 193 - element: <Element 'row' at 0x7f1b4872bb88>\n",
      "n: 194 - element: <Element 'row' at 0x7f1b4872b818>\n",
      "n: 195 - element: <Element 'row' at 0x7f1b4872b4a8>\n",
      "n: 196 - element: <Element 'row' at 0x7f1b4872b0e8>\n",
      "n: 197 - element: <Element 'row' at 0x7f1b487299f8>\n",
      "n: 198 - element: <Element 'row' at 0x7f1b48729688>\n",
      "n: 199 - element: <Element 'row' at 0x7f1b48729318>\n",
      "n: 200 - element: <Element 'row' at 0x7f1b487292c8>\n",
      "n: 201 - element: <Element 'row' at 0x7f1b48726f48>\n",
      "n: 202 - element: <Element 'row' at 0x7f1b48726bd8>\n",
      "n: 203 - element: <Element 'row' at 0x7f1b487264f8>\n",
      "n: 204 - element: <Element 'row' at 0x7f1b48726188>\n",
      "n: 205 - element: <Element 'row' at 0x7f1b48726138>\n",
      "n: 206 - element: <Element 'row' at 0x7f1b48722db8>\n",
      "n: 207 - element: <Element 'row' at 0x7f1b48722a48>\n",
      "n: 208 - element: <Element 'row' at 0x7f1b487226d8>\n",
      "n: 209 - element: <Element 'row' at 0x7f1b48722368>\n",
      "n: 210 - element: <Element 'row' at 0x7f1b48270098>\n",
      "n: 211 - element: <Element 'row' at 0x7f1b48270408>\n",
      "n: 212 - element: <Element 'row' at 0x7f1b48270778>\n",
      "n: 213 - element: <Element 'row' at 0x7f1b48270ae8>\n",
      "n: 214 - element: <Element 'row' at 0x7f1b48270e58>\n",
      "n: 215 - element: <Element 'row' at 0x7f1b48274228>\n",
      "n: 216 - element: <Element 'row' at 0x7f1b48274598>\n",
      "n: 217 - element: <Element 'row' at 0x7f1b48274908>\n",
      "n: 218 - element: <Element 'row' at 0x7f1b48274c78>\n",
      "n: 219 - element: <Element 'row' at 0x7f1b48275048>\n",
      "n: 220 - element: <Element 'row' at 0x7f1b482753b8>\n",
      "n: 221 - element: <Element 'row' at 0x7f1b48275728>\n",
      "n: 222 - element: <Element 'row' at 0x7f1b48275a98>\n",
      "n: 223 - element: <Element 'row' at 0x7f1b48275e08>\n",
      "n: 224 - element: <Element 'row' at 0x7f1b482791d8>\n",
      "n: 225 - element: <Element 'row' at 0x7f1b48279548>\n",
      "n: 226 - element: <Element 'row' at 0x7f1b482798b8>\n",
      "n: 227 - element: <Element 'row' at 0x7f1b48279c28>\n",
      "n: 228 - element: <Element 'row' at 0x7f1b48279f98>\n",
      "n: 229 - element: <Element 'row' at 0x7f1b4827b368>\n",
      "n: 230 - element: <Element 'row' at 0x7f1b4827b6d8>\n",
      "n: 231 - element: <Element 'row' at 0x7f1b4827ba48>\n",
      "n: 232 - element: <Element 'row' at 0x7f1b4827bd68>\n",
      "n: 233 - element: <Element 'row' at 0x7f1b4827c138>\n",
      "n: 234 - element: <Element 'row' at 0x7f1b4827c4a8>\n",
      "n: 235 - element: <Element 'row' at 0x7f1b4827c818>\n",
      "n: 236 - element: <Element 'row' at 0x7f1b4827cb88>\n",
      "n: 237 - element: <Element 'row' at 0x7f1b4827cef8>\n",
      "n: 238 - element: <Element 'row' at 0x7f1b4827d2c8>\n",
      "n: 239 - element: <Element 'row' at 0x7f1b4827d638>\n",
      "n: 240 - element: <Element 'row' at 0x7f1b4827d9a8>\n",
      "n: 241 - element: <Element 'row' at 0x7f1b4827dd18>\n",
      "n: 242 - element: <Element 'row' at 0x7f1b48281098>\n",
      "n: 243 - element: <Element 'row' at 0x7f1b48281408>\n",
      "n: 244 - element: <Element 'row' at 0x7f1b48281778>\n",
      "n: 245 - element: <Element 'row' at 0x7f1b48281ae8>\n",
      "n: 246 - element: <Element 'row' at 0x7f1b48281e58>\n",
      "n: 247 - element: <Element 'row' at 0x7f1b482831d8>\n",
      "n: 248 - element: <Element 'row' at 0x7f1b48283548>\n",
      "n: 249 - element: <Element 'row' at 0x7f1b482838b8>\n",
      "n: 250 - element: <Element 'row' at 0x7f1b48283c28>\n",
      "n: 251 - element: <Element 'row' at 0x7f1b48283f98>\n",
      "n: 252 - element: <Element 'row' at 0x7f1b48284368>\n",
      "n: 253 - element: <Element 'row' at 0x7f1b482846d8>\n",
      "n: 254 - element: <Element 'row' at 0x7f1b48284a48>\n",
      "n: 255 - element: <Element 'row' at 0x7f1b48284db8>\n",
      "n: 256 - element: <Element 'row' at 0x7f1b48286188>\n",
      "n: 257 - element: <Element 'row' at 0x7f1b482864f8>\n",
      "n: 258 - element: <Element 'row' at 0x7f1b48286868>\n",
      "n: 259 - element: <Element 'row' at 0x7f1b48286b88>\n",
      "n: 260 - element: <Element 'row' at 0x7f1b48286ef8>\n",
      "n: 261 - element: <Element 'row' at 0x7f1b482882c8>\n",
      "n: 262 - element: <Element 'row' at 0x7f1b48288638>\n",
      "n: 263 - element: <Element 'row' at 0x7f1b482889a8>\n",
      "n: 264 - element: <Element 'row' at 0x7f1b48288d18>\n",
      "n: 265 - element: <Element 'row' at 0x7f1b4828c0e8>\n",
      "n: 266 - element: <Element 'row' at 0x7f1b4828c458>\n",
      "n: 267 - element: <Element 'row' at 0x7f1b4828c7c8>\n",
      "n: 268 - element: <Element 'row' at 0x7f1b4828cb38>\n",
      "n: 269 - element: <Element 'row' at 0x7f1b4828cea8>\n",
      "n: 270 - element: <Element 'row' at 0x7f1b4828f278>\n",
      "n: 271 - element: <Element 'row' at 0x7f1b4828f5e8>\n",
      "n: 272 - element: <Element 'row' at 0x7f1b4828f958>\n",
      "n: 273 - element: <Element 'row' at 0x7f1b4828fcc8>\n",
      "n: 274 - element: <Element 'row' at 0x7f1b48290098>\n",
      "n: 275 - element: <Element 'row' at 0x7f1b48290408>\n",
      "n: 276 - element: <Element 'row' at 0x7f1b48290778>\n",
      "n: 277 - element: <Element 'row' at 0x7f1b48290a98>\n",
      "n: 278 - element: <Element 'row' at 0x7f1b48290e08>\n",
      "n: 279 - element: <Element 'row' at 0x7f1b482921d8>\n",
      "n: 280 - element: <Element 'row' at 0x7f1b48292598>\n",
      "n: 281 - element: <Element 'row' at 0x7f1b48292908>\n",
      "n: 282 - element: <Element 'row' at 0x7f1b48292c78>\n",
      "n: 283 - element: <Element 'row' at 0x7f1b48293048>\n",
      "n: 284 - element: <Element 'row' at 0x7f1b482933b8>\n",
      "n: 285 - element: <Element 'row' at 0x7f1b48293728>\n"
     ]
    }
   ],
   "source": [
    "for n, element in enumerate(root.iter('row')):\n",
    "    print(f'n: {n} - element: {element}')"
   ]
  },
  {
   "cell_type": "markdown",
   "metadata": {},
   "source": [
    "### Shew!\n",
    "As you can see, parsing XML can get a bit complicated. It's a useful example for web scraping as HTML will have a similar structure that you'll need to exploit. That said, XML is an outdated format, and JSON is the new standard. So with that, let's take a look to the format you'll be most apt to work with and encounter: JSON!!"
   ]
  },
  {
   "cell_type": "markdown",
   "metadata": {},
   "source": [
    "## The JSON Module\n",
    "\n",
    "https://docs.python.org/3.6/library/json.html"
   ]
  },
  {
   "cell_type": "code",
   "execution_count": 8,
   "metadata": {},
   "outputs": [],
   "source": [
    "import json"
   ]
  },
  {
   "cell_type": "markdown",
   "metadata": {},
   "source": [
    "To load a json file, you first open the file using python's built in function and then pass that file object to the json module's load method. As you can see, this loaded the data as a dictionary."
   ]
  },
  {
   "cell_type": "code",
   "execution_count": 9,
   "metadata": {},
   "outputs": [
    {
     "name": "stdout",
     "output_type": "stream",
     "text": [
      "<class 'dict'>\n"
     ]
    }
   ],
   "source": [
    "f = open('nyc_2001_campaign_finance.json')\n",
    "data = json.load(f)\n",
    "print(type(data))"
   ]
  },
  {
   "cell_type": "markdown",
   "metadata": {},
   "source": [
    "Json files are often nested in a hierarchical structure and will have data structures analogous to python dictionaries and lists. You can begin to investigate a particular file by using our traditional python methods. Here's all of the built in supported data types in JSON and their counterparts in python: \n",
    "\n",
    "<img src=\"images/json_python_datatypes.png\" width=500>"
   ]
  },
  {
   "cell_type": "markdown",
   "metadata": {},
   "source": [
    "Check the keys of the dictionary:"
   ]
  },
  {
   "cell_type": "code",
   "execution_count": 10,
   "metadata": {},
   "outputs": [
    {
     "data": {
      "text/plain": [
       "dict_keys(['meta', 'data'])"
      ]
     },
     "execution_count": 10,
     "metadata": {},
     "output_type": "execute_result"
    }
   ],
   "source": [
    "data.keys()"
   ]
  },
  {
   "cell_type": "markdown",
   "metadata": {},
   "source": [
    "Investigate what data types are stored within the values associated with those keys:"
   ]
  },
  {
   "cell_type": "code",
   "execution_count": 11,
   "metadata": {},
   "outputs": [
    {
     "name": "stdout",
     "output_type": "stream",
     "text": [
      "<class 'dict'>\n",
      "<class 'list'>\n"
     ]
    }
   ],
   "source": [
    "for v in data.values():\n",
    "    print(type(v))"
   ]
  },
  {
   "cell_type": "markdown",
   "metadata": {},
   "source": [
    "You can quickly preview the first dictionary as a DataFrame"
   ]
  },
  {
   "cell_type": "code",
   "execution_count": 12,
   "metadata": {},
   "outputs": [
    {
     "data": {
      "text/html": [
       "<div>\n",
       "<style scoped>\n",
       "    .dataframe tbody tr th:only-of-type {\n",
       "        vertical-align: middle;\n",
       "    }\n",
       "\n",
       "    .dataframe tbody tr th {\n",
       "        vertical-align: top;\n",
       "    }\n",
       "\n",
       "    .dataframe thead th {\n",
       "        text-align: right;\n",
       "    }\n",
       "</style>\n",
       "<table border=\"1\" class=\"dataframe\">\n",
       "  <thead>\n",
       "    <tr style=\"text-align: right;\">\n",
       "      <th></th>\n",
       "      <th>view</th>\n",
       "    </tr>\n",
       "  </thead>\n",
       "  <tbody>\n",
       "    <tr>\n",
       "      <th>attribution</th>\n",
       "      <td>Campaign Finance Board (CFB)</td>\n",
       "    </tr>\n",
       "    <tr>\n",
       "      <th>averageRating</th>\n",
       "      <td>0</td>\n",
       "    </tr>\n",
       "    <tr>\n",
       "      <th>category</th>\n",
       "      <td>City Government</td>\n",
       "    </tr>\n",
       "    <tr>\n",
       "      <th>columns</th>\n",
       "      <td>[{'id': -1, 'name': 'sid', 'dataTypeName': 'me...</td>\n",
       "    </tr>\n",
       "    <tr>\n",
       "      <th>createdAt</th>\n",
       "      <td>1315950830</td>\n",
       "    </tr>\n",
       "    <tr>\n",
       "      <th>description</th>\n",
       "      <td>A listing of public funds payments for candida...</td>\n",
       "    </tr>\n",
       "    <tr>\n",
       "      <th>displayType</th>\n",
       "      <td>table</td>\n",
       "    </tr>\n",
       "    <tr>\n",
       "      <th>downloadCount</th>\n",
       "      <td>1470</td>\n",
       "    </tr>\n",
       "    <tr>\n",
       "      <th>flags</th>\n",
       "      <td>[default, restorable, restorePossibleForType]</td>\n",
       "    </tr>\n",
       "    <tr>\n",
       "      <th>grants</th>\n",
       "      <td>[{'inherited': False, 'type': 'viewer', 'flags...</td>\n",
       "    </tr>\n",
       "    <tr>\n",
       "      <th>hideFromCatalog</th>\n",
       "      <td>False</td>\n",
       "    </tr>\n",
       "    <tr>\n",
       "      <th>hideFromDataJson</th>\n",
       "      <td>False</td>\n",
       "    </tr>\n",
       "    <tr>\n",
       "      <th>id</th>\n",
       "      <td>8dhd-zvi6</td>\n",
       "    </tr>\n",
       "    <tr>\n",
       "      <th>indexUpdatedAt</th>\n",
       "      <td>1536596254</td>\n",
       "    </tr>\n",
       "    <tr>\n",
       "      <th>metadata</th>\n",
       "      <td>{'rdfSubject': '0', 'rdfClass': '', 'attachmen...</td>\n",
       "    </tr>\n",
       "    <tr>\n",
       "      <th>name</th>\n",
       "      <td>2001 Campaign Payments</td>\n",
       "    </tr>\n",
       "    <tr>\n",
       "      <th>newBackend</th>\n",
       "      <td>False</td>\n",
       "    </tr>\n",
       "    <tr>\n",
       "      <th>numberOfComments</th>\n",
       "      <td>0</td>\n",
       "    </tr>\n",
       "    <tr>\n",
       "      <th>oid</th>\n",
       "      <td>4140996</td>\n",
       "    </tr>\n",
       "    <tr>\n",
       "      <th>owner</th>\n",
       "      <td>{'id': '5fuc-pqz2', 'displayName': 'NYC OpenDa...</td>\n",
       "    </tr>\n",
       "    <tr>\n",
       "      <th>provenance</th>\n",
       "      <td>official</td>\n",
       "    </tr>\n",
       "    <tr>\n",
       "      <th>publicationAppendEnabled</th>\n",
       "      <td>False</td>\n",
       "    </tr>\n",
       "    <tr>\n",
       "      <th>publicationDate</th>\n",
       "      <td>1371845179</td>\n",
       "    </tr>\n",
       "    <tr>\n",
       "      <th>publicationGroup</th>\n",
       "      <td>240370</td>\n",
       "    </tr>\n",
       "    <tr>\n",
       "      <th>publicationStage</th>\n",
       "      <td>published</td>\n",
       "    </tr>\n",
       "    <tr>\n",
       "      <th>query</th>\n",
       "      <td>{}</td>\n",
       "    </tr>\n",
       "    <tr>\n",
       "      <th>rights</th>\n",
       "      <td>[read]</td>\n",
       "    </tr>\n",
       "    <tr>\n",
       "      <th>rowClass</th>\n",
       "      <td></td>\n",
       "    </tr>\n",
       "    <tr>\n",
       "      <th>rowsUpdatedAt</th>\n",
       "      <td>1371845177</td>\n",
       "    </tr>\n",
       "    <tr>\n",
       "      <th>rowsUpdatedBy</th>\n",
       "      <td>5fuc-pqz2</td>\n",
       "    </tr>\n",
       "    <tr>\n",
       "      <th>tableAuthor</th>\n",
       "      <td>{'id': '5fuc-pqz2', 'displayName': 'NYC OpenDa...</td>\n",
       "    </tr>\n",
       "    <tr>\n",
       "      <th>tableId</th>\n",
       "      <td>932968</td>\n",
       "    </tr>\n",
       "    <tr>\n",
       "      <th>tags</th>\n",
       "      <td>[finance, campaign finance board, cfb, nyccfb,...</td>\n",
       "    </tr>\n",
       "    <tr>\n",
       "      <th>totalTimesRated</th>\n",
       "      <td>0</td>\n",
       "    </tr>\n",
       "    <tr>\n",
       "      <th>viewCount</th>\n",
       "      <td>233</td>\n",
       "    </tr>\n",
       "    <tr>\n",
       "      <th>viewLastModified</th>\n",
       "      <td>1536605717</td>\n",
       "    </tr>\n",
       "    <tr>\n",
       "      <th>viewType</th>\n",
       "      <td>tabular</td>\n",
       "    </tr>\n",
       "  </tbody>\n",
       "</table>\n",
       "</div>"
      ],
      "text/plain": [
       "                                                                       view\n",
       "attribution                                    Campaign Finance Board (CFB)\n",
       "averageRating                                                             0\n",
       "category                                                    City Government\n",
       "columns                   [{'id': -1, 'name': 'sid', 'dataTypeName': 'me...\n",
       "createdAt                                                        1315950830\n",
       "description               A listing of public funds payments for candida...\n",
       "displayType                                                           table\n",
       "downloadCount                                                          1470\n",
       "flags                         [default, restorable, restorePossibleForType]\n",
       "grants                    [{'inherited': False, 'type': 'viewer', 'flags...\n",
       "hideFromCatalog                                                       False\n",
       "hideFromDataJson                                                      False\n",
       "id                                                                8dhd-zvi6\n",
       "indexUpdatedAt                                                   1536596254\n",
       "metadata                  {'rdfSubject': '0', 'rdfClass': '', 'attachmen...\n",
       "name                                                 2001 Campaign Payments\n",
       "newBackend                                                            False\n",
       "numberOfComments                                                          0\n",
       "oid                                                                 4140996\n",
       "owner                     {'id': '5fuc-pqz2', 'displayName': 'NYC OpenDa...\n",
       "provenance                                                         official\n",
       "publicationAppendEnabled                                              False\n",
       "publicationDate                                                  1371845179\n",
       "publicationGroup                                                     240370\n",
       "publicationStage                                                  published\n",
       "query                                                                    {}\n",
       "rights                                                               [read]\n",
       "rowClass                                                                   \n",
       "rowsUpdatedAt                                                    1371845177\n",
       "rowsUpdatedBy                                                     5fuc-pqz2\n",
       "tableAuthor               {'id': '5fuc-pqz2', 'displayName': 'NYC OpenDa...\n",
       "tableId                                                              932968\n",
       "tags                      [finance, campaign finance board, cfb, nyccfb,...\n",
       "totalTimesRated                                                           0\n",
       "viewCount                                                               233\n",
       "viewLastModified                                                 1536605717\n",
       "viewType                                                            tabular"
      ]
     },
     "execution_count": 12,
     "metadata": {},
     "output_type": "execute_result"
    }
   ],
   "source": [
    "pd.DataFrame.from_dict(data['meta'])"
   ]
  },
  {
   "cell_type": "markdown",
   "metadata": {},
   "source": [
    "Notice the column names which will be very useful!"
   ]
  },
  {
   "cell_type": "markdown",
   "metadata": {},
   "source": [
    "Investigate further information about the list stored under the 'data' key:"
   ]
  },
  {
   "cell_type": "code",
   "execution_count": 13,
   "metadata": {},
   "outputs": [
    {
     "data": {
      "text/plain": [
       "285"
      ]
     },
     "execution_count": 13,
     "metadata": {},
     "output_type": "execute_result"
    }
   ],
   "source": [
    "len(data['data'])"
   ]
  },
  {
   "cell_type": "markdown",
   "metadata": {},
   "source": [
    "Previewing the first entry:"
   ]
  },
  {
   "cell_type": "code",
   "execution_count": 14,
   "metadata": {},
   "outputs": [
    {
     "data": {
      "text/plain": [
       "[1,\n",
       " 'E3E9CC9F-7443-43F6-94AF-B5A0F802DBA1',\n",
       " 1,\n",
       " 1315925633,\n",
       " '392904',\n",
       " 1315925633,\n",
       " '392904',\n",
       " '{\\n  \"invalidCells\" : {\\n    \"1519001\" : \"TOTALPAY\",\\n    \"1518998\" : \"PRIMARYPAY\",\\n    \"1519000\" : \"RUNOFFPAY\",\\n    \"1518999\" : \"GENERALPAY\",\\n    \"1518994\" : \"OFFICECD\",\\n    \"1518996\" : \"OFFICEDIST\",\\n    \"1518991\" : \"ELECTION\"\\n  }\\n}',\n",
       " None,\n",
       " 'CANDID',\n",
       " 'CANDNAME',\n",
       " None,\n",
       " 'OFFICEBORO',\n",
       " None,\n",
       " 'CANCLASS',\n",
       " None,\n",
       " None,\n",
       " None,\n",
       " None]"
      ]
     },
     "execution_count": 14,
     "metadata": {},
     "output_type": "execute_result"
    }
   ],
   "source": [
    "data['data'][0]"
   ]
  },
  {
   "cell_type": "markdown",
   "metadata": {},
   "source": [
    "## Summary\n",
    "As you can see, there's still a lot going on here with the deeply nested structure of some of these data files. In the upcoming lab, you'll get a chance to practice loading files and conducting some initial preview of the data as you did here."
   ]
  }
 ],
 "metadata": {
  "kernelspec": {
   "display_name": "Python 3",
   "language": "python",
   "name": "python3"
  },
  "language_info": {
   "codemirror_mode": {
    "name": "ipython",
    "version": 3
   },
   "file_extension": ".py",
   "mimetype": "text/x-python",
   "name": "python",
   "nbconvert_exporter": "python",
   "pygments_lexer": "ipython3",
   "version": "3.6.6"
  }
 },
 "nbformat": 4,
 "nbformat_minor": 2
}
